{
 "cells": [
  {
   "cell_type": "markdown",
   "metadata": {},
   "source": [
    "# 🌍 Soil vs Non-Soil Image Classification with ResNet18\n",
    "\n",
    "## 📌 Problem Statement\n",
    "The goal is to classify images as **soil** (label = 1) or **non-soil** (label = 0) for the Soil Classification Part 2 (2025) Kaggle competition. Soil images come from a custom dataset, while non-soil images are sourced from CIFAR-10 and MNIST."
   ]
  },
  {
   "cell_type": "markdown",
   "metadata": {},
   "source": [
    "## 📊 Data Overview\n",
    "- **Soil Images**: From `train_labels.csv` (label = 1).\n",
    "- **Non-Soil Images**:\n",
    "  - 120 images per class from CIFAR-10 (`test` split, label = 0).\n",
    "  - 80 images per class from MNIST PNG (`testing` split, label = 0).\n",
    "- **Total**: 3,222 images, split 80% train (2,577), 20% validation (645) using stratified `train_test_split`.\n",
    "- **Preprocessing**: Images resized to 224x224, normalized, with training augmentations (random flips, rotations, color jitter)."
   ]
  },
  {
   "cell_type": "markdown",
   "metadata": {},
   "source": [
    "## ⚙️ Method\n",
    "- **Model**: Pretrained ResNet18 (ImageNet weights) with a modified final layer (`nn.Linear`) for binary classification.\n",
    "- **Training**:\n",
    "  - Loss: `BCEWithLogitsLoss`\n",
    "  - Optimizer: Adam (learning rate = 1e-4)\n",
    "  - Scheduler: `ReduceLROnPlateau` (based on validation accuracy)\n",
    "  - Batch size: 32\n",
    "  - Epochs: 10\n",
    "- **Hardware**: NVIDIA Tesla T4 GPU (Kaggle environment)."
   ]
  },
  {
   "cell_type": "markdown",
   "metadata": {},
   "source": [
    "## ✅ Results\n",
    "```json\n",
    "{\n",
    "  \"validation_accuracy\": 1.0,\n",
    "  \"f1_score\": 1.0,\n",
    "  \"leaderboard_rank\": 1\n",
    "}\n",
    "```"
   ]
  },
  {
   "cell_type": "markdown",
   "metadata": {},
   "source": [
    "## 🥇 Achievements\n",
    "- **Perfect F1 Score**: Achieved 1.0 on the test set.\n",
    "- **#1 Leaderboard Rank**: Topped the Kaggle competition leaderboard.\n",
    "- **Robust Model**: Consistently achieved 100% validation accuracy across all 10 epochs."
   ]
  },
  {
   "cell_type": "markdown",
   "metadata": {},
   "source": [
    "## 💾 Model & Files\n",
    "- **Model**: Fine-tuned ResNet18, saved for inference.\n",
    "- **Notebooks**:\n",
    "  - `/notebooks/soil-classification-2.ipynb`: Data loading, model training, and validation. Then Generates `submission.csv` for test predictions.\n",
    "- **Metrics**: `/docs/cards/ml-metrics.json` details performance metrics."
   ]
  }
 ],
 "metadata": {
  "kernelspec": {
   "display_name": "Python 3",
   "language": "python",
   "name": "python3"
  },
  "language_info": {
   "name": "python",
   "version": "3.11.11"
  }
 },
 "nbformat": 4,
 "nbformat_minor": 4
}
