{
 "cells": [
  {
   "cell_type": "markdown",
   "metadata": {},
   "source": [
    "# 🧠 Soil Classification - Part 1"
   ]
  },
  {
   "cell_type": "markdown",
   "metadata": {},
   "source": [
    "## 📌 Overview\n",
    "\n",
    "This project tackles a multiclass classification problem using **EfficientNet-B0** to predict 4 types of soil from images."
   ]
  },
  {
   "cell_type": "markdown",
   "metadata": {},
   "source": [
    "## 🧪 Dataset\n",
    "\n",
    "- Total Classes: 4\\n- Source: `soil_classification-2025`\n",
    "- Split using 5-Fold Stratified Cross-Validation"
   ]
  },
  {
   "cell_type": "markdown",
   "metadata": {},
   "source": [
    "## 🏗️Model\n",
    "- Architecture: `EfficientNet-B0`\n",
    "- Final layer modified to 4-class output\n",
    "- Optimizer: `AdamW`\n",
    "- Loss: `CrossEntropyLoss` with class weights"
   ]
  },
  {
   "cell_type": "markdown",
   "metadata": {},
   "source": [
    "## 🔁 Training\n",
    "- Epochs: 20\n",
    "- Batch Size: 32\n",
    "- Augmentations: Resize, flip, rotate, brightness, normalization (Albumentations)"
   ]
  },
  {
   "cell_type": "markdown",
   "metadata": {},
   "source": [
    "## 📈 Metrics\n",
    "- F1 Score: **1.0**\n",
    "- Leaderboard Rank: **#42**"
   ]
  },
  {
   "cell_type": "markdown",
   "metadata": {},
   "source": [
    "## 💾 Model Saving\n",
    "\n",
    "Model is saved after every fold: `effnetb0_foldX.pth`"
   ]
  }
 ],
 "metadata": {
  "language_info": {
   "name": "python"
  }
 },
 "nbformat": 4,
 "nbformat_minor": 2
}
